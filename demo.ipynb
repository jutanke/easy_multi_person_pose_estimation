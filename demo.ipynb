{
 "cells": [
  {
   "cell_type": "code",
   "execution_count": 1,
   "metadata": {},
   "outputs": [
    {
     "name": "stderr",
     "output_type": "stream",
     "text": [
      "Using TensorFlow backend.\n"
     ]
    }
   ],
   "source": [
    "%matplotlib inline\n",
    "import matplotlib.pyplot as plt\n",
    "import numpy as np\n",
    "import cv2\n",
    "import sys\n",
    "sys.path.append('.')\n",
    "\n",
    "from poseestimation import model\n",
    "\n",
    "pe = model.PoseEstimator()\n",
    "\n",
    "img_path = './julian.JPG'\n",
    "\n",
    "I = cv2.cvtColor(cv2.imread(img_path), cv2.COLOR_BGR2RGB)\n",
    "\n",
    "# I_list = np.array([I, I])\n",
    "# print(I_list.shape)\n",
    "\n",
    "# peaks = pe.predict(I)"
   ]
  },
  {
   "cell_type": "code",
   "execution_count": 2,
   "metadata": {},
   "outputs": [],
   "source": [
    "# peaks"
   ]
  },
  {
   "cell_type": "code",
   "execution_count": 3,
   "metadata": {},
   "outputs": [],
   "source": [
    "# # part_str = [nose, neck, Rsho, Relb, Rwri, Lsho, Lelb, Lwri, Rhip, Rkne, Rank, Lhip, Lkne, Lank, Leye, Reye, Lear, Rear, pt19\n",
    "\n",
    "# import cv2\n",
    "\n",
    "# stride = 8\n",
    "\n",
    "# fig = plt.figure(figsize=(16,16))\n",
    "\n",
    "# for i, (img, hm) in enumerate(Pairs):\n",
    "#     hm = np.squeeze(hm)\n",
    "#     ax = fig.add_subplot(2,2,i+1)\n",
    "#     ax.imshow(img)\n",
    "#     hm = cv2.resize(hm, (0,0), fx=stride, fy=stride, interpolation=cv2.INTER_CUBIC)\n",
    "#     ax.imshow(hm[:,:,8], alpha=0.5)\n"
   ]
  },
  {
   "cell_type": "code",
   "execution_count": null,
   "metadata": {},
   "outputs": [
    {
     "name": "stdout",
     "output_type": "stream",
     "text": [
      "Input shape: (1, 184, 144, 3)\n",
      "Output shape (heatmap): (1, 23, 18, 19)\n",
      "Input shape: (1, 368, 280, 3)\n",
      "Output shape (heatmap): (1, 46, 35, 19)\n",
      "Input shape: (1, 552, 416, 3)\n",
      "Output shape (heatmap): (1, 69, 52, 19)\n",
      "Input shape: (1, 736, 552, 3)\n"
     ]
    }
   ],
   "source": [
    "Pairs = []\n",
    "heatmaps, pafs = pe.predict_pafs_and_heatmaps(I, Pairs)\n",
    "\n",
    "one = np.squeeze(heatmaps[:,:,:,9])\n",
    "\n",
    "fig = plt.figure(figsize=(10,10))\n",
    "ax = fig.add_subplot(111)\n",
    "ax.imshow(I)\n",
    "ax.imshow(one, alpha=0.5)\n",
    "plt.show()"
   ]
  },
  {
   "cell_type": "code",
   "execution_count": null,
   "metadata": {},
   "outputs": [],
   "source": [
    "import math\n",
    "mid_num = 10\n",
    "paf_avg = np.squeeze(pafs)\n",
    "h,w,_ = I.shape\n",
    "thre2 = 0.05\n",
    "special_k = []\n",
    "connection_all = []\n",
    "\n",
    "limbSeq = [[2,3], [2,6], [3,4], [4,5], [6,7], [7,8], [2,9], [9,10], \\\n",
    "           [10,11], [2,12], [12,13], [13,14], [2,1], [1,15], [15,17], \\\n",
    "           [1,16], [16,18], [3,17], [6,18]]\n",
    "\n",
    "mapIdx = [[31,32], [39,40], [33,34], [35,36], [41,42], [43,44], [19,20], [21,22], \\\n",
    "          [23,24], [25,26], [27,28], [29,30], [47,48], [49,50], [53,54], [51,52], \\\n",
    "          [55,56], [37,38], [45,46]]\n",
    "\n",
    "for k in range(len(mapIdx)):\n",
    "    stuff = [x-19 for x in mapIdx[k]]\n",
    "    score_mid = paf_avg[:,:,[x-19 for x in mapIdx[k]]]\n",
    "    candA = peaks[limbSeq[k][0]-1]\n",
    "    candB = peaks[limbSeq[k][1]-1]\n",
    "    indexA, indexB = limbSeq[k]\n",
    "    nA = len(candA); nB = len(candB)\n",
    "    \n",
    "    print('A:',candA)\n",
    "    print('B:',candB)\n",
    "    \n",
    "    break\n",
    "    \n",
    "    if(nA != 0 and nB != 0):\n",
    "        connection_candidate = []\n",
    "        for i in range(nA):\n",
    "            for j in range(nB):\n",
    "                vec = np.subtract(candB[j][:2], candA[i][:2])\n",
    "                norm = math.sqrt(vec[0]*vec[0] + vec[1]*vec[1])\n",
    "                if norm == 0:\n",
    "                    continue\n",
    "                vec = np.divide(vec, norm)\n",
    "                \n",
    "                startend = list(zip(np.linspace(candA[i][0], candB[j][0], num=mid_num), \\\n",
    "                               np.linspace(candA[i][1], candB[j][1], num=mid_num)))\n",
    "                \n",
    "                vec_x = np.array([score_mid[int(round(startend[I][1])), int(round(startend[I][0])), 0] \\\n",
    "                                  for I in range(len(startend))])\n",
    "                vec_y = np.array([score_mid[int(round(startend[I][1])), int(round(startend[I][0])), 1] \\\n",
    "                                  for I in range(len(startend))])\n",
    "                \n",
    "                score_midpts = np.multiply(vec_x, vec[0]) + np.multiply(vec_y, vec[1])\n",
    "                score_with_dist_prior = sum(score_midpts)/len(score_midpts) + min(0.5*h/norm-1, 0)\n",
    "                criterion1 = len(np.nonzero(score_midpts > thre2)[0]) > 0.8 * len(score_midpts)\n",
    "                criterion2 = score_with_dist_prior > 0\n",
    "                \n",
    "                if criterion1 and criterion2:\n",
    "                    connection_candidate.append([i, j, score_with_dist_prior, score_with_dist_prior+candA[i][2]+candB[j][2]])\n",
    "                \n",
    "                \n",
    "        connection_candidate = sorted(connection_candidate, key=lambda x: x[2], reverse=True)   \n",
    "        connection = np.zeros((0,5))\n",
    "        for c in range(len(connection_candidate)):\n",
    "            i,j,s = connection_candidate[c][0:3]\n",
    "            if(i not in connection[:,3] and j not in connection[:,4]):\n",
    "                connection = np.vstack([connection, [candA[i][3], candB[j][3], s, i, j]])\n",
    "                if(len(connection) >= min(nA, nB)):\n",
    "                    break\n",
    "\n",
    "        connection_all.append(connection)\n",
    "    else:\n",
    "        special_k.append(k)\n",
    "        connection_all.append([])\n",
    "    #break\n",
    "\n",
    "            \n",
    "print(connection_all)"
   ]
  }
 ],
 "metadata": {
  "kernelspec": {
   "display_name": "Python 3",
   "language": "python",
   "name": "python3"
  },
  "language_info": {
   "codemirror_mode": {
    "name": "ipython",
    "version": 3
   },
   "file_extension": ".py",
   "mimetype": "text/x-python",
   "name": "python",
   "nbconvert_exporter": "python",
   "pygments_lexer": "ipython3",
   "version": "3.6.4"
  }
 },
 "nbformat": 4,
 "nbformat_minor": 2
}
