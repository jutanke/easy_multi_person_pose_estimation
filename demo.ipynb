{
 "cells": [
  {
   "cell_type": "code",
   "execution_count": null,
   "metadata": {},
   "outputs": [
    {
     "name": "stderr",
     "output_type": "stream",
     "text": [
      "Using TensorFlow backend.\n"
     ]
    }
   ],
   "source": [
    "%matplotlib inline\n",
    "import matplotlib.pyplot as plt\n",
    "import sys\n",
    "import cv2\n",
    "import numpy as np\n",
    "sys.path.append('.')\n",
    "\n",
    "from poseestimation import model\n",
    "\n",
    "# --- load image ---\n",
    "img_path = './julian.JPG'\n",
    "I = cv2.cvtColor(cv2.imread(img_path), cv2.COLOR_BGR2RGB)\n",
    "\n",
    "# -------------------------\n",
    "pe = model.PoseEstimator()\n",
    "positions = pe.predict(I)\n",
    "# -------------------------\n",
    "\n",
    "# --- plotting ---\n",
    "\n",
    "fig = plt.figure(figsize=(16,8))\n",
    "ax = fig.add_subplot(111)\n",
    "ax.imshow(I)\n",
    "ax.axis('off')\n",
    "\n",
    "for img_pos in positions[0]: # for all entities in the image\n",
    "    for x,y,score in np.squeeze(img_pos):\n",
    "        ax.scatter(y,x, color='blue')\n",
    "\n",
    "plt.show()"
   ]
  }
 ],
 "metadata": {
  "kernelspec": {
   "display_name": "Python 3",
   "language": "python",
   "name": "python3"
  },
  "language_info": {
   "codemirror_mode": {
    "name": "ipython",
    "version": 3
   },
   "file_extension": ".py",
   "mimetype": "text/x-python",
   "name": "python",
   "nbconvert_exporter": "python",
   "pygments_lexer": "ipython3",
   "version": "3.6.4"
  }
 },
 "nbformat": 4,
 "nbformat_minor": 2
}
